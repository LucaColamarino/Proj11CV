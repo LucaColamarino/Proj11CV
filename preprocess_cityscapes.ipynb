{
 "cells": [
  {
   "cell_type": "code",
   "execution_count": 1,
   "id": "0eedfbc9",
   "metadata": {},
   "outputs": [
    {
     "name": "stderr",
     "output_type": "stream",
     "text": [
      "Preprocessing train:   0%|          | 0/2975 [00:00<?, ?it/s]C:\\Users\\colam\\AppData\\Local\\Temp\\ipykernel_16460\\3319155715.py:30: UserWarning: To copy construct from a tensor, it is recommended to use sourceTensor.clone().detach() or sourceTensor.clone().detach().requires_grad_(True), rather than torch.tensor(sourceTensor).\n",
      "  mask_tensor = torch.tensor(mask, dtype=torch.long)  # [H, W], long\n",
      "Preprocessing train: 100%|██████████| 2975/2975 [03:18<00:00, 14.97it/s]\n",
      "Preprocessing val: 100%|██████████| 500/500 [00:35<00:00, 13.89it/s]\n"
     ]
    }
   ],
   "source": [
    "import os\n",
    "import torch\n",
    "from torchvision import transforms\n",
    "from PIL import Image\n",
    "from tqdm import tqdm\n",
    "from dataset import CityscapesFineDataset\n",
    "\n",
    "root_dir = 'datasets/realcityscapes'\n",
    "save_dir = 'datasets/realcityscapes_pt'\n",
    "\n",
    "resize = (256, 512)\n",
    "\n",
    "# Trasformazione immagine in float32 [0,1], normalizzata\n",
    "to_tensor = transforms.Compose([\n",
    "    transforms.Resize(resize, interpolation=Image.BILINEAR),\n",
    "    transforms.ToTensor(),  # converte automaticamente in float32\n",
    "])\n",
    "\n",
    "os.makedirs(save_dir, exist_ok=True)\n",
    "for split in ['train', 'val']:\n",
    "    os.makedirs(f'{save_dir}/images/{split}', exist_ok=True)\n",
    "    os.makedirs(f'{save_dir}/masks/{split}', exist_ok=True)\n",
    "\n",
    "    ds = CityscapesFineDataset(root=root_dir, split=split, transform=None, resize=resize)\n",
    "\n",
    "    for i in tqdm(range(len(ds)), desc=f\"Preprocessing {split}\"):\n",
    "        img, mask = ds[i]\n",
    "\n",
    "        img_tensor = to_tensor(img)  # [C, H, W], float32\n",
    "        mask_tensor = torch.tensor(mask, dtype=torch.long)  # [H, W], long\n",
    "\n",
    "        torch.save(img_tensor, f'{save_dir}/images/{split}/{i:05d}.pt')\n",
    "        torch.save(mask_tensor, f'{save_dir}/masks/{split}/{i:05d}.pt')\n"
   ]
  }
 ],
 "metadata": {
  "kernelspec": {
   "display_name": ".venv",
   "language": "python",
   "name": "python3"
  },
  "language_info": {
   "codemirror_mode": {
    "name": "ipython",
    "version": 3
   },
   "file_extension": ".py",
   "mimetype": "text/x-python",
   "name": "python",
   "nbconvert_exporter": "python",
   "pygments_lexer": "ipython3",
   "version": "3.11.5"
  }
 },
 "nbformat": 4,
 "nbformat_minor": 5
}
